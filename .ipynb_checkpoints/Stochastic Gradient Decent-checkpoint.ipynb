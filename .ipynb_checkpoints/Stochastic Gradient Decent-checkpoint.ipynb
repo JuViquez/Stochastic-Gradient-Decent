{
 "cells": [
  {
   "cell_type": "markdown",
   "metadata": {},
   "source": [
    "# Gradient Decent\n",
    "\n",
    "Gradient Decent es un algoritmo de optimización que busca el minimizar una función. Para encontrar el mínimo local de una función, este algoritmo toma pasos siguiendo el lado mas negativo de la gradiente, en otras palabras, el algoritmo trata de descender siguiendo el camino más empinado de la función.\n",
    "    \n",
    "La siguiente ecuación describe el funcinamiento del algoritmo:\n",
    "    \n",
    "$$b = a - \\gamma \\nabla f(a)$$\n",
    "\n",
    "$b$ representa la siguiente posición del algoritmo en la función de costo, $a$ representa la posición actual $\\gamma$ es el factor de espera y $\\nabla f(a)$ es la primer derivada de la función de costo e indica la dirección del descenso más empinado.\n",
    "\n",
    "Ejemplo gráfico del funcionamiento del algoritmo con dos polinomios de diferente grado:\n",
    "\n",
    "### Bibliotecas necesarias"
   ]
  },
  {
   "cell_type": "code",
   "execution_count": 2,
   "metadata": {},
   "outputs": [],
   "source": [
    "import numpy as np\n",
    "import matplotlib.pyplot as plt\n",
    "from sympy import diff, symbols, lambdify"
   ]
  },
  {
   "cell_type": "markdown",
   "metadata": {},
   "source": [
    "### Definición de las funciones de costo"
   ]
  },
  {
   "cell_type": "code",
   "execution_count": 3,
   "metadata": {},
   "outputs": [],
   "source": [
    "#inicializacion de funciones de costo que se desean minimizar\n",
    "x = symbols('x')\n",
    "\n",
    "x2 = x**2             #Funcion cuadratica\n",
    "x2_prime = diff(x2)   #Derivada de la funcion cuadratica\n",
    "\n",
    "x5 = 1/20*(x+4)*(x+2)*(x+1)*(x-1)*(x-3)+2           #Funcion de un polinomio de grado 5\n",
    "x5_prime = diff(x5)                                 #Derivada de la funcion de un polinomio de grado 5\n",
    "\n",
    "x2 = lambdify(x, x2)               #Crea la funcion cuadratica\n",
    "x2_prime = lambdify(x, x2_prime)   #Crea la funcion derivada de la funcion cuadratica\n",
    "\n",
    "x5 = lambdify(x, x5)              #Crea la funcion de grado 5\n",
    "x5_prime = lambdify(x, x5_prime)  #Crea la funcion derivada de la funcion de grado 5"
   ]
  },
  {
   "cell_type": "markdown",
   "metadata": {},
   "source": [
    "### Algoritmo de Gradient Decent"
   ]
  },
  {
   "cell_type": "code",
   "execution_count": 4,
   "metadata": {},
   "outputs": [],
   "source": [
    "def gradient_descent(previous_x, learning_rate, epoch, cost_func, grad_function):\n",
    "    x_gd = []\n",
    "    y_gd = []\n",
    "    \n",
    "    x_gd.append(previous_x)\n",
    "    y_gd.append(cost_func(previous_x))\n",
    "\n",
    "    # Empieza el ciclo para actualizar x y y\n",
    "    for i in range(epoch):\n",
    "        current_x = previous_x - learning_rate * grad_function(previous_x)\n",
    "        \n",
    "        x_gd.append(current_x)\n",
    "        y_gd.append(cost_func(current_x))\n",
    "\n",
    "        # Actializa previous_x\n",
    "        previous_x = current_x\n",
    "\n",
    "    return x_gd, y_gd"
   ]
  },
  {
   "cell_type": "markdown",
   "metadata": {},
   "source": [
    "### Ejemplo de Gradient Descent aplicado a una función cuadrática"
   ]
  },
  {
   "cell_type": "code",
   "execution_count": 5,
   "metadata": {
    "scrolled": true
   },
   "outputs": [
    {
     "data": {
      "image/png": "[encoded data removed]",
      "text/plain": [
       "<Figure size 432x288 with 1 Axes>"
      ]
     },
     "metadata": {},
     "output_type": "display_data"
    }
   ],
   "source": [
    "%matplotlib inline\n",
    "\n",
    "#inicializacion de parametros para graficar la funcion cuadratica\n",
    "x0 = -5             #punto de inicio\n",
    "learning_rate = 0.15 #gamma\n",
    "epoch = 10           #cantidad de iteraciones\n",
    "\n",
    "x = np.arange(-5, 5, 0.01)  # genera los numeros entre -5 y 5\n",
    "\n",
    "y2 = x2(x)\n",
    "x2_gd, y2_gd = gradient_descent(x0, learning_rate, epoch, x2, x2_prime) #gradiente de la funcion cuadratica\n",
    "\n",
    "y5 = x5(x)\n",
    "x5_gd, y5_gd = gradient_descent(x0, learning_rate, epoch, x5, x5_prime) #gradiente de la funcion de grado 5\n",
    "\n",
    "#grafica\n",
    "\n",
    "plt.figure(1)\n",
    "plt.scatter(x2_gd, y2_gd, c = 'b')\n",
    "plt.plot(x, y2, c ='k')\n",
    "for i in range(1, epoch+1):\n",
    "    plt.annotate('', xy=(x2_gd[i], y2_gd[i]), xytext=(x2_gd[i-1], y2_gd[i-1]),\n",
    "                   arrowprops={'arrowstyle': '->', 'color': 'r', 'lw': 1},\n",
    "                   va='center', ha='center')\n",
    "\n",
    "    plt.title('Min = ' + str(round(y2_gd[-1],7)))\n",
    "\n",
    "plt.show()"
   ]
  },
  {
   "cell_type": "markdown",
   "metadata": {},
   "source": [
    "### Ejemplo de Gradient Descent aplicado a una función de grado cinco"
   ]
  },
  {
   "cell_type": "code",
   "execution_count": 6,
   "metadata": {},
   "outputs": [
    {
     "data": {
      "image/png": "[encoded data removed]",
      "text/plain": [
       "<Figure size 432x288 with 1 Axes>"
      ]
     },
     "metadata": {},
     "output_type": "display_data"
    }
   ],
   "source": [
    "#inicializacion de parametros para graficar la funcion del polinomio de grado 5\n",
    "x0 = -3             #punto de inicio\n",
    "learning_rate = 0.15 #gamma\n",
    "epoch = 10           #cantidad de iteraciones\n",
    "\n",
    "x = np.arange(-3, 3, 0.01)  # genera los numeros entre -5 y 5\n",
    "\n",
    "y5 = x5(x)\n",
    "x5_gd, y5_gd = gradient_descent(x0, learning_rate, epoch, x5, x5_prime) #gradiente de la funcion de grado 5\n",
    "\n",
    "#grafica\n",
    "\n",
    "plt.figure(1)\n",
    "plt.scatter(x5_gd, y5_gd, c = 'b')\n",
    "plt.plot(x, y5, c ='k')\n",
    "for i in range(1, epoch+1):\n",
    "    plt.annotate('', xy=(x5_gd[i], y5_gd[i]), xytext=(x5_gd[i-1], y5_gd[i-1]),\n",
    "                   arrowprops={'arrowstyle': '->', 'color': 'r', 'lw': 1},\n",
    "                   va='center', ha='center')\n",
    "    \n",
    "plt.title('Min = ' + str(round(y5_gd[-1],7)))\n",
    "\n",
    "plt.show()"
   ]
  },
  {
   "cell_type": "markdown",
   "metadata": {},
   "source": [
    "# Stochastic Gradient Descent\n",
    "\n"
   ]
  }
 ],
 "metadata": {
  "kernelspec": {
   "display_name": "Python 3",
   "language": "python",
   "name": "python3"
  },
  "language_info": {
   "codemirror_mode": {
    "name": "ipython",
    "version": 3
   },
   "file_extension": ".py",
   "mimetype": "text/x-python",
   "name": "python",
   "nbconvert_exporter": "python",
   "pygments_lexer": "ipython3",
   "version": "3.6.5"
  }
 },
 "nbformat": 4,
 "nbformat_minor": 2
}
