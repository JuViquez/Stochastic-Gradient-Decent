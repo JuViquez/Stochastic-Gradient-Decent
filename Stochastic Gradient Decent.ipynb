{
 "cells": [
  {
   "cell_type": "markdown",
   "metadata": {},
   "source": [
    "# Gradient Decent\n",
    "\n",
    "Gradient Decent es un algoritmo de optimización que busca el minimo de una función. Para encontrar el mínimo local de una función, este algoritmo toma pasos siguiendo el lado mas negativo de la gradiente, en otras palabras, el algoritmo trata de descender siguiendo el camino más empinado de la función.\n",
    "    \n",
    "La siguiente ecuación describe el funcinamiento del algoritmo:\n",
    "    \n",
    "$$b = a - \\gamma \\nabla f(a)$$\n",
    "\n",
    "$b$ representa la siguiente posición del algoritmo en la función de costo, $a$ representa la posición actual $\\gamma$ es el factor de espera y $\\nabla f(a)$ es la primer derivada de la función de costo e indica la dirección del descenso más empinado.\n",
    "\n",
    "Ejemplo gráfico del funcionamiento del algoritmo:"
   ]
  },
  {
   "cell_type": "code",
   "execution_count": 183,
   "metadata": {},
   "outputs": [],
   "source": [
    "import numpy as np\n",
    "import matplotlib.pyplot as plt\n",
    "from matplotlib.animation import FuncAnimation\n",
    "\n",
    "%matplotlib inline"
   ]
  },
  {
   "cell_type": "code",
   "execution_count": 128,
   "metadata": {},
   "outputs": [],
   "source": [
    "def cost_func(x):\n",
    "    y = x**2\n",
    "    return y"
   ]
  },
  {
   "cell_type": "code",
   "execution_count": 230,
   "metadata": {},
   "outputs": [],
   "source": [
    "#inicializacion de parametros\n",
    "x0 = -5              #punto de inicio\n",
    "learning_rate = 0.15 #gamma\n",
    "epoch = 8            #cantidad de iteraciones"
   ]
  },
  {
   "cell_type": "code",
   "execution_count": 196,
   "metadata": {},
   "outputs": [],
   "source": [
    "def gradient_descent(previous_x, learning_rate, epoch):\n",
    "    x_gd = []\n",
    "    y_gd = []\n",
    "    \n",
    "    x_gd.append(previous_x)\n",
    "    y_gd.append(cost_func(previous_x))\n",
    "\n",
    "    # Empieza el ciclo para actualizar x y y\n",
    "    for i in range(epoch):\n",
    "        current_x = previous_x - learning_rate*(2*previous_x)\n",
    "        x_gd.append(current_x)\n",
    "        y_gd.append(cost_func(current_x))\n",
    "\n",
    "        # Actializa previous_x\n",
    "        previous_x = current_x\n",
    "\n",
    "    return x_gd, y_gd"
   ]
  },
  {
   "cell_type": "code",
   "execution_count": 231,
   "metadata": {
    "scrolled": true
   },
   "outputs": [
    {
     "data": {
      "image/png": "[encoded data removed]",
      "text/plain": [
       "<Figure size 432x288 with 1 Axes>"
      ]
     },
     "metadata": {},
     "output_type": "display_data"
    }
   ],
   "source": [
    "x = np.arange(-5, 5, 0.01)\n",
    "y = cost_func(x) #x\n",
    "x_gd, y_gd = gradient_descent(x0, learning_rate, epoch)\n",
    "\n",
    "#grafica\n",
    "\n",
    "plt.scatter(x_gd, y_gd, c = 'b')\n",
    "plt.plot(x, y, c ='k')\n",
    "\n",
    "for i in range(1, epoch+1):\n",
    "    plt.annotate('', xy=(x_gd[i], y_gd[i]), xytext=(x_gd[i-1], y_gd[i-1]),\n",
    "                   arrowprops={'arrowstyle': '->', 'color': 'r', 'lw': 1},\n",
    "                   va='center', ha='center')\n",
    "\n",
    "plt.text(x0, 0, 'Min = ' + str(round(y_gd[-1],7)))\n",
    "plt.show()"
   ]
  },
  {
   "cell_type": "markdown",
   "metadata": {},
   "source": [
    "# Stochastic Gradient Descent\n",
    "\n"
   ]
  }
 ],
 "metadata": {
  "kernelspec": {
   "display_name": "Python 3",
   "language": "python",
   "name": "python3"
  },
  "language_info": {
   "codemirror_mode": {
    "name": "ipython",
    "version": 3
   },
   "file_extension": ".py",
   "mimetype": "text/x-python",
   "name": "python",
   "nbconvert_exporter": "python",
   "pygments_lexer": "ipython3",
   "version": "3.6.5"
  }
 },
 "nbformat": 4,
 "nbformat_minor": 2
}
